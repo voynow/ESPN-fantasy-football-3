{
 "cells": [
  {
   "cell_type": "code",
   "execution_count": 2,
   "metadata": {},
   "outputs": [],
   "source": [
    "%load_ext autoreload\n",
    "%autoreload 2"
   ]
  },
  {
   "cell_type": "code",
   "execution_count": 67,
   "metadata": {},
   "outputs": [],
   "source": [
    "from utils import data_ops, extract, transform, configs\n",
    "\n",
    "import numpy as np\n",
    "import pandas as pd\n",
    "\n",
    "import json\n",
    "import urllib\n",
    "\n",
    "pd.set_option('mode.chained_assignment', None)"
   ]
  },
  {
   "cell_type": "code",
   "execution_count": 68,
   "metadata": {},
   "outputs": [
    {
     "name": "stderr",
     "output_type": "stream",
     "text": [
      "[WDM] - Downloading: 100%|██████████| 6.68M/6.68M [00:00<00:00, 17.7MB/s]\n"
     ]
    }
   ],
   "source": [
    "# extract.extract()\n",
    "# transform.transform()"
   ]
  },
  {
   "cell_type": "code",
   "execution_count": 339,
   "metadata": {},
   "outputs": [],
   "source": [
    "json_data = data_ops.load()\n",
    "dfs = data_ops.join_players(json_data)"
   ]
  },
  {
   "cell_type": "code",
   "execution_count": 351,
   "metadata": {},
   "outputs": [],
   "source": [
    "week_num = 4\n",
    "opponent_strength = data_ops.get_opponent_strength(dfs)\n",
    "week = data_ops.get_schedule(week_num)"
   ]
  },
  {
   "cell_type": "code",
   "execution_count": 352,
   "metadata": {},
   "outputs": [
    {
     "name": "stdout",
     "output_type": "stream",
     "text": [
      "\n",
      "\n",
      "\n",
      "POSITION: quarterback\tMean: 17.3\t Std: 4.7\n",
      "\n",
      "✓✓ Rank: 31\tTeams: BUF -> BAL\tAverage: 25.0\t\t(Std: 13.9, Var: 192.1, Min: 15.3, Max: 40.9)\n",
      "\n",
      "✓✓ Rank: 30\tTeams: SEA -> DET\tAverage: 23.6\t\t(Std: 4.8, Var: 23.5, Min: 18.3, Max: 27.8)\n",
      "\n",
      "✓✓ Rank: 29\tTeams: DAL -> WAS\tAverage: 22.7\t\t(Std: 7.2, Var: 52.1, Min: 14.4, Max: 27.5)\n",
      "\n",
      "✓✓ Rank: 28\tTeams: DEN -> LV \tAverage: 22.0\t\t(Std: 1.9, Var: 3.7, Min: 19.8, Max: 23.3)\n",
      "\n",
      "✓✓ Rank: 27\tTeams: IND -> TEN\tAverage: 21.9\t\t(Std: 7.5, Var: 56.4, Min: 15.0, Max: 29.9)\n",
      "\n",
      "✓✓ Rank: 26\tTeams: GB -> NE \tAverage: 21.9\t\t(Std: 16.2, Var: 262.5, Min: 10.4, Max: 40.4)\n",
      "\n",
      "✓✓ Rank: 25\tTeams: CAR -> ARI\tAverage: 21.4\t\t(Std: 12.5, Var: 156.7, Min: 10.2, Max: 34.9)\n",
      "\n",
      "✓✓ Rank: 24\tTeams: CLE -> ATL\tAverage: 20.5\t\t(Std: 0.7, Var: 0.5, Min: 19.7, Max: 20.9)\n",
      "\n",
      "XXX Rank:  7\tTeams: NYG -> CHI\tAverage: 13.1\t\t(Std: 2.9, Var: 8.5, Min: 11.0, Max: 16.4)\n",
      "\n",
      "XXX Rank:  6\tTeams: LAC -> HOU\tAverage: 12.8\t\t(Std: 3.7, Var: 13.8, Min: 8.9, Max: 16.3)\n",
      "\n",
      "XXX Rank:  5\tTeams: JAC -> PHI\tAverage: 12.3\t\t(Std: 4.0, Var: 15.8, Min: 8.6, Max: 16.5)\n",
      "\n",
      "XXX Rank:  4\tTeams: LV -> DEN\tAverage: 11.6\t\t(Std: 4.9, Var: 23.9, Min: 8.2, Max: 17.2)\n",
      "\n",
      "XXX Rank:  1\tTeams: BAL -> BUF\tAverage: 8.3\t\t(Std: 4.9, Var: 23.6, Min: 2.7, Max: 11.4)\n",
      "\n",
      "\n",
      "\n",
      "\n",
      "POSITION: running back\tMean: 18.9\t Std: 4.9\n",
      "\n",
      "✓✓ Rank: 32\tTeams: SEA -> DET\tAverage: 27.5\t\t(Std: 6.9, Var: 47.8, Min: 20.9, Max: 34.7)\n",
      "\n",
      "✓✓ Rank: 31\tTeams: LAC -> HOU\tAverage: 27.3\t\t(Std: 10.9, Var: 117.9, Min: 14.8, Max: 33.9)\n",
      "\n",
      "✓✓ Rank: 30\tTeams: DEN -> LV \tAverage: 25.4\t\t(Std: 2.5, Var: 6.4, Min: 22.7, Max: 27.7)\n",
      "\n",
      "✓✓ Rank: 28\tTeams: HOU -> LAC\tAverage: 23.5\t\t(Std: 5.0, Var: 24.9, Min: 18.2, Max: 28.1)\n",
      "\n",
      "✓✓ Rank: 27\tTeams: NYJ -> PIT\tAverage: 23.1\t\t(Std: 1.8, Var: 3.2, Min: 21.3, Max: 24.9)\n",
      "\n",
      "✓✓ Rank: 26\tTeams: CHI -> NYG\tAverage: 23.0\t\t(Std: 6.5, Var: 42.7, Min: 15.8, Max: 28.6)\n",
      "\n",
      "✓✓ Rank: 25\tTeams: PIT -> NYJ\tAverage: 22.8\t\t(Std: 15.4, Var: 235.7, Min: 9.5, Max: 39.6)\n",
      "\n",
      "✓✓ Rank: 24\tTeams: DET -> SEA\tAverage: 22.7\t\t(Std: 3.0, Var: 9.2, Min: 20.7, Max: 26.2)\n",
      "\n",
      "XXX Rank:  8\tTeams: PHI -> JAC\tAverage: 15.7\t\t(Std: 4.5, Var: 20.3, Min: 12.2, Max: 20.8)\n",
      "\n",
      "XXX Rank:  7\tTeams: NE -> GB \tAverage: 15.2\t\t(Std: 5.1, Var: 25.9, Min: 9.5, Max: 19.2)\n",
      "\n",
      "XXX Rank:  6\tTeams: GB -> NE \tAverage: 13.3\t\t(Std: 0.6, Var: 0.3, Min: 12.7, Max: 13.7)\n",
      "\n",
      "XXX Rank:  5\tTeams: BAL -> BUF\tAverage: 12.9\t\t(Std: 3.3, Var: 10.6, Min: 9.8, Max: 16.3)\n",
      "\n",
      "XXX Rank:  4\tTeams: CLE -> ATL\tAverage: 12.6\t\t(Std: 5.5, Var: 30.3, Min: 6.9, Max: 17.9)\n",
      "\n",
      "XXX Rank:  3\tTeams: LV -> DEN\tAverage: 10.6\t\t(Std: 2.9, Var: 8.6, Min: 7.9, Max: 13.7)\n",
      "\n",
      "\n",
      "\n",
      "\n",
      "POSITION: wide receiver\tMean: 29.1\t Std: 6.8\n",
      "\n",
      "✓✓ Rank: 32\tTeams: BUF -> BAL\tAverage: 46.7\t\t(Std: 28.6, Var: 816.7, Min: 29.0, Max: 79.7)\n",
      "\n",
      "✓✓ Rank: 30\tTeams: DAL -> WAS\tAverage: 41.2\t\t(Std: 8.2, Var: 67.8, Min: 31.7, Max: 46.2)\n",
      "\n",
      "✓✓ Rank: 29\tTeams: IND -> TEN\tAverage: 40.0\t\t(Std: 11.2, Var: 125.9, Min: 29.2, Max: 51.6)\n",
      "\n",
      "✓✓ Rank: 28\tTeams: CLE -> ATL\tAverage: 38.5\t\t(Std: 4.7, Var: 21.8, Min: 33.1, Max: 41.6)\n",
      "\n",
      "✓✓ Rank: 27\tTeams: HOU -> LAC\tAverage: 34.3\t\t(Std: 13.5, Var: 183.3, Min: 22.8, Max: 49.2)\n",
      "\n",
      "✓✓ Rank: 26\tTeams: ATL -> CLE\tAverage: 33.8\t\t(Std: 14.7, Var: 215.6, Min: 23.9, Max: 50.7)\n",
      "\n",
      "✓✓ Rank: 25\tTeams: SEA -> DET\tAverage: 33.6\t\t(Std: 11.5, Var: 131.7, Min: 21.7, Max: 44.6)\n",
      "\n",
      "✓✓ Rank: 24\tTeams: NYJ -> PIT\tAverage: 33.4\t\t(Std: 9.8, Var: 95.4, Min: 22.2, Max: 39.9)\n",
      "\n",
      "XXX Rank:  8\tTeams: BAL -> BUF\tAverage: 24.2\t\t(Std: 10.1, Var: 101.3, Min: 13.4, Max: 33.3)\n",
      "\n",
      "XXX Rank:  7\tTeams: DET -> SEA\tAverage: 23.4\t\t(Std: 4.3, Var: 18.8, Min: 18.8, Max: 27.4)\n",
      "\n",
      "XXX Rank:  6\tTeams: TEN -> IND\tAverage: 22.8\t\t(Std: 7.7, Var: 59.5, Min: 16.9, Max: 31.5)\n",
      "\n",
      "XXX Rank:  4\tTeams: CHI -> NYG\tAverage: 21.8\t\t(Std: 7.0, Var: 49.6, Min: 15.2, Max: 29.2)\n",
      "\n",
      "XXX Rank:  2\tTeams: GB -> NE \tAverage: 21.6\t\t(Std: 11.4, Var: 130.7, Min: 14.2, Max: 34.8)\n",
      "\n",
      "XXX Rank:  1\tTeams: LV -> DEN\tAverage: 18.4\t\t(Std: 5.7, Var: 32.4, Min: 13.1, Max: 24.4)\n",
      "\n",
      "\n",
      "\n",
      "\n",
      "POSITION: tight end\tMean: 9.2\t Std: 4.4\n",
      "\n",
      "✓✓ Rank: 32\tTeams: CAR -> ARI\tAverage: 20.0\t\t(Std: 9.5, Var: 90.1, Min: 11.4, Max: 30.2)\n",
      "\n",
      "✓✓ Rank: 31\tTeams: CLE -> ATL\tAverage: 17.2\t\t(Std: 5.8, Var: 33.2, Min: 10.6, Max: 21.0)\n",
      "\n",
      "✓✓ Rank: 30\tTeams: GB -> NE \tAverage: 15.6\t\t(Std: 16.4, Var: 269.7, Min: 2.5, Max: 34.0)\n",
      "\n",
      "✓✓ Rank: 29\tTeams: TEN -> IND\tAverage: 15.5\t\t(Std: 5.5, Var: 29.9, Min: 9.4, Max: 20.0)\n",
      "\n",
      "✓✓ Rank: 27\tTeams: DEN -> LV \tAverage: 13.8\t\t(Std: 2.6, Var: 6.9, Min: 12.2, Max: 16.8)\n",
      "\n",
      "✓✓ Rank: 26\tTeams: LV -> DEN\tAverage: 12.5\t\t(Std: 11.9, Var: 142.1, Min: 4.8, Max: 26.2)\n",
      "\n",
      "✓✓ Rank: 25\tTeams: DET -> SEA\tAverage: 12.1\t\t(Std: 1.8, Var: 3.2, Min: 10.3, Max: 13.9)\n",
      "\n",
      "XXX Rank:  8\tTeams: CHI -> NYG\tAverage: 5.8\t\t(Std: 2.3, Var: 5.1, Min: 3.6, Max: 8.1)\n",
      "\n",
      "XXX Rank:  7\tTeams: PHI -> JAC\tAverage: 5.4\t\t(Std: 3.0, Var: 8.9, Min: 3.5, Max: 8.8)\n",
      "\n",
      "XXX Rank:  6\tTeams: NE -> GB \tAverage: 5.2\t\t(Std: 3.7, Var: 13.9, Min: 2.3, Max: 9.4)\n",
      "\n",
      "XXX Rank:  5\tTeams: WAS -> DAL\tAverage: 4.7\t\t(Std: 3.1, Var: 9.6, Min: 1.2, Max: 7.1)\n",
      "\n",
      "XXX Rank:  4\tTeams: BAL -> BUF\tAverage: 4.6\t\t(Std: 2.0, Var: 4.1, Min: 2.4, Max: 6.4)\n",
      "\n",
      "\n",
      "\n",
      "\n",
      "POSITION: kicker\tMean: 6.6\t Std: 2.7\n",
      "\n",
      "✓✓ Rank: 32\tTeams: WAS -> DAL\tAverage: 10.7\t\t(Std: 2.1, Var: 4.3, Min: 9.0, Max: 13.0)\n",
      "\n",
      "✓✓ Rank: 29\tTeams: CHI -> NYG\tAverage: 9.7\t\t(Std: 1.5, Var: 2.3, Min: 8.0, Max: 11.0)\n",
      "\n",
      "✓✓ Rank: 28\tTeams: ARI -> CAR\tAverage: 9.7\t\t(Std: 6.7, Var: 44.3, Min: 2.0, Max: 14.0)\n",
      "\n",
      "✓✓ Rank: 27\tTeams: LAC -> HOU\tAverage: 9.7\t\t(Std: 1.5, Var: 2.3, Min: 8.0, Max: 11.0)\n",
      "\n",
      "✓✓ Rank: 26\tTeams: HOU -> LAC\tAverage: 9.3\t\t(Std: 2.5, Var: 6.3, Min: 7.0, Max: 12.0)\n",
      "\n",
      "✓✓ Rank: 25\tTeams: DET -> SEA\tAverage: 9.3\t\t(Std: 0.6, Var: 0.3, Min: 9.0, Max: 10.0)\n",
      "\n",
      "✓✓ Rank: 24\tTeams: CAR -> ARI\tAverage: 8.7\t\t(Std: 2.1, Var: 4.3, Min: 7.0, Max: 11.0)\n",
      "\n",
      "XXX Rank:  8\tTeams: DEN -> LV \tAverage: 4.3\t\t(Std: 2.9, Var: 8.3, Min: 1.0, Max: 6.0)\n",
      "\n",
      "XXX Rank:  7\tTeams: SEA -> DET\tAverage: 4.3\t\t(Std: 3.5, Var: 12.3, Min: 1.0, Max: 8.0)\n",
      "\n",
      "XXX Rank:  4\tTeams: BAL -> BUF\tAverage: 2.7\t\t(Std: 1.5, Var: 2.3, Min: 1.0, Max: 4.0)\n",
      "\n",
      "XXX Rank:  3\tTeams: PHI -> JAC\tAverage: 2.0\t\t(Std: 2.0, Var: 4.0, Min: 0.0, Max: 4.0)\n",
      "\n",
      "XXX Rank:  2\tTeams: JAC -> PHI\tAverage: 2.0\t\t(Std: 2.6, Var: 7.0, Min: 0.0, Max: 5.0)\n",
      "\n"
     ]
    }
   ],
   "source": [
    "main_slate = [\"1:00 PM\", \"4:05 PM\", \"4:25 PM\"]\n",
    "main_slate_games = pd.concat([week[week['Time (ET)'] == string] for string in main_slate])\n",
    "main_slate_teams = list(pd.concat([main_slate_games['Away Team'], main_slate_games['Home Team']], axis=0))\n",
    "\n",
    "game_map = {}\n",
    "for i, row in main_slate_games.iterrows():\n",
    "    game_map[row['Away Team']] = row['Home Team']\n",
    "    game_map[row['Home Team']] = row['Away Team']\n",
    "\n",
    "for key in opponent_strength:\n",
    "    df = opponent_strength[key]\n",
    "\n",
    "    header_str = f\"\\n\\n\\nPOSITION: {key}\\tMean: {df['fpts/g'].mean():.1f}\\t Std: {df['fpts/g'].std():.1f}\\n\"\n",
    "    print(header_str)\n",
    "\n",
    "    for i, row in df.iterrows():\n",
    "        if row.opp in main_slate_teams:\n",
    "            rank = 32 - i\n",
    "            if rank <=8 or rank >= 24:\n",
    "                if rank <= 8:\n",
    "                    print_str = \"XXX \"\n",
    "                if rank >= 24:\n",
    "                    print_str = u'\\u2713'*2 + \" \"\n",
    "            else:\n",
    "                continue\n",
    "\n",
    "            print_str += (f\"Rank: {rank:2n}\\t\"\n",
    "            f\"Teams: {game_map[row.opp]} -> {row.opp:3s}\\t\"\n",
    "            f\"Average: {row['fpts/g']:.1f}\\t\\t\"\n",
    "            f\"(Std: {row['std']:.1f}, Var: {row['var']:.1f}, Min: {row['min']:.1f}, Max: {row['max']:.1f})\\n\")\n",
    "\n",
    "            print(print_str)\n"
   ]
  },
  {
   "cell_type": "code",
   "execution_count": 315,
   "metadata": {},
   "outputs": [
    {
     "data": {
      "text/plain": [
       "6.59378125"
      ]
     },
     "execution_count": 315,
     "metadata": {},
     "output_type": "execute_result"
    }
   ],
   "source": []
  },
  {
   "cell_type": "code",
   "execution_count": null,
   "metadata": {},
   "outputs": [],
   "source": []
  }
 ],
 "metadata": {
  "kernelspec": {
   "display_name": "Python 3.8.0 ('venv': venv)",
   "language": "python",
   "name": "python3"
  },
  "language_info": {
   "codemirror_mode": {
    "name": "ipython",
    "version": 3
   },
   "file_extension": ".py",
   "mimetype": "text/x-python",
   "name": "python",
   "nbconvert_exporter": "python",
   "pygments_lexer": "ipython3",
   "version": "3.8.0"
  },
  "orig_nbformat": 4,
  "vscode": {
   "interpreter": {
    "hash": "3bb34c9df7005154cd33c95a3047ea4adc397bd1e5244326db1b02c24d2be677"
   }
  }
 },
 "nbformat": 4,
 "nbformat_minor": 2
}
