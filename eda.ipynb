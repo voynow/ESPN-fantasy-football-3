{
 "cells": [
  {
   "cell_type": "code",
   "execution_count": 2,
   "metadata": {},
   "outputs": [],
   "source": [
    "%load_ext autoreload\n",
    "%autoreload 2"
   ]
  },
  {
   "cell_type": "code",
   "execution_count": 3,
   "metadata": {},
   "outputs": [],
   "source": [
    "from utils import data_ops, extract, transform, configs\n",
    "\n",
    "import numpy as np\n",
    "import pandas as pd\n",
    "\n",
    "import json\n",
    "import urllib"
   ]
  },
  {
   "cell_type": "code",
   "execution_count": 4,
   "metadata": {},
   "outputs": [],
   "source": [
    "# extract.extract()\n",
    "# transform.transform()"
   ]
  },
  {
   "cell_type": "code",
   "execution_count": 8,
   "metadata": {},
   "outputs": [],
   "source": [
    "json_data = data_ops.load()\n",
    "dfs = data_ops.join_players(json_data)"
   ]
  },
  {
   "cell_type": "code",
   "execution_count": 88,
   "metadata": {},
   "outputs": [
    {
     "name": "stdout",
     "output_type": "stream",
     "text": [
      "quarterback\n",
      "0.4119092151023188\n",
      "running back\n",
      "0.40520653648160654\n",
      "wide receiver\n",
      "0.38555335123058504\n",
      "tight end\n",
      "0.17509620285109595\n",
      "kicker\n",
      "-0.030752802389671263\n"
     ]
    }
   ],
   "source": [
    "for key in dfs:    \n",
    "    df = dfs[key]\n",
    "    scores_2022 = df[df['year'] == 2022]\n",
    "\n",
    "    cols = ['player', 'week', 'fpts']\n",
    "    player_groups = [group for player, group in scores_2022[cols].groupby('player')]\n",
    "\n",
    "    raw_data = {\n",
    "        \"x\": [], \n",
    "        \"y\": []\n",
    "    }\n",
    "    for group in player_groups:\n",
    "        if len(group) == 2:\n",
    "            raw_data[\"x\"].append(group['fpts'][0])\n",
    "            raw_data[\"y\"].append(group['fpts'][1])\n",
    "\n",
    "    print(key)\n",
    "    print(pd.DataFrame(raw_data).corr().iloc[0, 1])"
   ]
  },
  {
   "cell_type": "code",
   "execution_count": null,
   "metadata": {},
   "outputs": [],
   "source": []
  },
  {
   "cell_type": "markdown",
   "metadata": {},
   "source": []
  }
 ],
 "metadata": {
  "kernelspec": {
   "display_name": "Python 3.8.0 ('venv': venv)",
   "language": "python",
   "name": "python3"
  },
  "language_info": {
   "codemirror_mode": {
    "name": "ipython",
    "version": 3
   },
   "file_extension": ".py",
   "mimetype": "text/x-python",
   "name": "python",
   "nbconvert_exporter": "python",
   "pygments_lexer": "ipython3",
   "version": "3.8.0"
  },
  "orig_nbformat": 4,
  "vscode": {
   "interpreter": {
    "hash": "3bb34c9df7005154cd33c95a3047ea4adc397bd1e5244326db1b02c24d2be677"
   }
  }
 },
 "nbformat": 4,
 "nbformat_minor": 2
}
