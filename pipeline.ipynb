{
 "cells": [
  {
   "cell_type": "code",
   "execution_count": 47,
   "metadata": {},
   "outputs": [
    {
     "name": "stdout",
     "output_type": "stream",
     "text": [
      "The autoreload extension is already loaded. To reload it, use:\n",
      "  %reload_ext autoreload\n"
     ]
    }
   ],
   "source": [
    "%load_ext autoreload\n",
    "%autoreload 2"
   ]
  },
  {
   "cell_type": "code",
   "execution_count": 2,
   "metadata": {},
   "outputs": [],
   "source": [
    "from utils import configs, extract, join_data, transform\n",
    "\n",
    "import json"
   ]
  },
  {
   "cell_type": "code",
   "execution_count": 46,
   "metadata": {},
   "outputs": [],
   "source": [
    "extract.extract()\n",
    "transform.transform()"
   ]
  },
  {
   "cell_type": "code",
   "execution_count": 50,
   "metadata": {},
   "outputs": [],
   "source": [
    "join_data.join_data()"
   ]
  },
  {
   "cell_type": "code",
   "execution_count": 24,
   "metadata": {},
   "outputs": [],
   "source": [
    "\n",
    "def header_fn(data):\n",
    "    \"\"\"\n",
    "    Extract misc player information not included in season/gamlog stats\n",
    "    \"\"\"\n",
    "    header_raw = data['header'][2:]\n",
    "\n",
    "    # get position and team, if no team exists team = \"\"\n",
    "    position_team = header_raw.pop(0).split(\", \")\n",
    "    position_team.append(\"\")\n",
    "    (pos, team) = position_team[:2]\n",
    "\n",
    "    # format string for key value structure\n",
    "    draft_class_replace_tuples = (\" \", \"_\"), (\":_\",\": \"), (\"(\", \"\"), (\")\", \"\")\n",
    "    for t in draft_class_replace_tuples:\n",
    "        header_raw[0] = header_raw[0].replace(*t)\n",
    "    header_raw.append(header_raw.pop().replace(\"  \", \" \"))\n",
    "\n",
    "    # add pos and team in key value structure\n",
    "    header_raw.append(f'pos: {pos.lower()}')\n",
    "    header_raw.append(f'team: {team.lower()}')\n",
    "\n",
    "    # seperate keys from values\n",
    "    header_key_values = [item.replace(\": \", \" \").split(\" \") for item in header_raw]\n",
    "\n",
    "    # populate dict with keys and values\n",
    "    header_dict_collection = {}\n",
    "    for row in header_key_values:\n",
    "        for i, item in enumerate(row):\n",
    "            if i % 2:\n",
    "                header_dict_collection[key] = item.lower()\n",
    "            else:\n",
    "                key = item.lower()\n",
    "\n",
    "    return header_dict_collection"
   ]
  },
  {
   "cell_type": "code",
   "execution_count": 25,
   "metadata": {},
   "outputs": [],
   "source": [
    "def group(data):\n",
    "    \"\"\"\n",
    "    Separate raw data into groups defined in configs.table_names\n",
    "    header group accessed by index (0th and 2nd row of raw data)\n",
    "    other groups accessed by string search\n",
    "    \"\"\"\n",
    "    table_names = configs.table_names\n",
    "    \n",
    "    player_dict = {}\n",
    "    player_dict[table_names[0]] = data[0] + data[2]\n",
    "\n",
    "    for row in data:\n",
    "        for string in table_names:\n",
    "            if row[0] == string:\n",
    "                string_key = string.replace(\" \", \"_\").lower()\n",
    "                player_dict[string_key] = row\n",
    "    \n",
    "    return player_dict"
   ]
  },
  {
   "cell_type": "code",
   "execution_count": 49,
   "metadata": {},
   "outputs": [],
   "source": [
    "master_raw_data = json.load(open(configs.raw_loc, 'rb'))\n",
    "raw_data = {k: v['data'] for k, v in master_raw_data.items()}\n",
    "\n",
    "for key in raw_data:\n",
    "    raw_data[key] = raw_data[key].replace(\"\\n\\n\\n\", \"\\n\\n\")\n",
    "    raw_data[key] = raw_data[key].split(\"\\n\\n\")\n",
    "\n",
    "for key in raw_data:\n",
    "    data_split = []\n",
    "    for item in raw_data[key]:\n",
    "        data_split.append(item.split(\"\\n\"))\n",
    "    raw_data[key] = data_split\n",
    "\n",
    "for k, data in raw_data.items():\n",
    "    raw_data[k] = group(data)\n",
    "    # raw_data[k] = header_fn(grouped_data)"
   ]
  },
  {
   "cell_type": "code",
   "execution_count": 80,
   "metadata": {},
   "outputs": [
    {
     "name": "stdout",
     "output_type": "stream",
     "text": [
      "{'pos': 'Quarterback', 'team': 'Kansas City Chiefs', 'Draft': '2017_Round_1_10', 'College': 'Texas Tech', 'Ht': '6’2”', 'Wt': '225', 'DOB': '1995-09-17', 'Age': '26'}\n",
      "{'pos': 'Quarterback', 'team': 'Buffalo Bills', 'Draft': '2018_Round_1_7', 'College': 'Wyoming', 'Ht': '6’5”', 'Wt': '233', 'DOB': '1996-05-21', 'Age': '26'}\n",
      "{'pos': 'Quarterback', 'team': 'Washington Commanders', 'Draft': '2016_Round_1_2', 'College': 'North Dakota State', 'Ht': '6’5”', 'Wt': '237', 'DOB': '1992-12-30', 'Age': '29'}\n",
      "{'pos': 'Quarterback', 'team': 'Philadelphia Eagles', 'Draft': '2020_Round_2_21', 'College': 'Oklahoma', 'Ht': '6’1”', 'Wt': '222', 'DOB': '1998-08-07', 'Age': '24'}\n",
      "{'pos': 'Quarterback', 'team': 'Los Angeles Chargers', 'Draft': '2020_Round_1_6', 'College': 'Oregon', 'Ht': '6’6”', 'Wt': '236', 'DOB': '1998-03-10', 'Age': '24'}\n",
      "{'pos': 'Quarterback', 'team': 'Baltimore Ravens', 'Draft': '2018_Round_1_32', 'College': 'Louisville', 'Ht': '6’3”', 'Wt': '200', 'DOB': '1997-01-07', 'Age': '25'}\n",
      "{'pos': 'Quarterback', 'team': 'Cincinnati Bengals', 'Draft': '2020_Round_1_1', 'College': 'Louisiana State', 'Ht': '6’4”', 'Wt': '221', 'DOB': '1996-12-10', 'Age': '25'}\n",
      "{'pos': 'Quarterback', 'team': 'Atlanta Falcons', 'Draft': '2015_Round_1_2', 'College': 'Oregon', 'Ht': '6’4”', 'Wt': '222', 'DOB': '1993-10-30', 'Age': '28'}\n",
      "{'pos': 'Quarterback', 'team': 'New Orleans Saints', 'Draft': '2015_Round_1_1', 'College': 'Florida State', 'Ht': '6’4”', 'Wt': '231', 'DOB': '1994-01-06', 'Age': '28'}\n",
      "{'pos': 'Quarterback', 'team': 'Tennessee Titans', 'Draft': '2012_Round_1_8', 'College': 'Texas A&M', 'Ht': '6’4”', 'Wt': '221', 'DOB': '1988-07-27', 'Age': '34'}\n",
      "{'pos': 'Quarterback', 'team': 'Minnesota Vikings', 'Draft': '2012_Round_4_7', 'College': 'Michigan State', 'Ht': '6’3”', 'Wt': '214', 'DOB': '1988-08-19', 'Age': '34'}\n",
      "{'pos': 'Quarterback', 'team': 'Carolina Panthers', 'Draft': '2018_Round_1_1', 'College': 'Oklahoma', 'Ht': '6’1”', 'Wt': '215', 'DOB': '1995-04-14', 'Age': '27'}\n",
      "{'pos': 'Quarterback', 'team': 'Arizona Cardinals', 'Draft': '2019_Round_1_1', 'College': 'Oklahoma', 'Ht': '5’10”', 'Wt': '207', 'DOB': '1997-08-07', 'Age': '25'}\n",
      "{'pos': 'Quarterback', 'team': 'Denver Broncos', 'Draft': '2012_Round_3_12', 'College': 'Wisconsin', 'Ht': '5’11”', 'Wt': '206', 'DOB': '1988-11-29', 'Age': '33'}\n",
      "{'pos': 'Quarterback', 'team': 'Seattle Seahawks', 'Draft': '2013_Round_2_8', 'College': 'West Virginia', 'Ht': '6’3”', 'Wt': '220', 'DOB': '1990-10-10', 'Age': '31'}\n",
      "{'pos': 'Quarterback', 'team': 'Las Vegas Raiders', 'Draft': '2014_Round_2_4', 'College': 'Fresno State', 'Ht': '6’2”', 'Wt': '214', 'DOB': '1991-03-28', 'Age': '31'}\n",
      "{'pos': 'Quarterback', 'team': 'Detroit Lions', 'Draft': '2016_Round_1_1', 'College': 'California', 'Ht': '6’4”', 'Wt': '215', 'DOB': '1994-10-14', 'Age': '27'}\n",
      "{'pos': 'Quarterback', 'team': 'Indianapolis Colts', 'Draft': '2008_Round_1_3', 'College': 'Boston College', 'Ht': '6’4”', 'Wt': '220', 'DOB': '1985-05-17', 'Age': '37'}\n",
      "{'pos': 'Quarterback', 'team': 'Houston Texans', 'Draft': '2021_Round_3_3', 'College': 'Stanford', 'Ht': '6’4”', 'Wt': '212', 'DOB': '1998-10-21', 'Age': '23'}\n",
      "{'pos': 'Quarterback', 'team': 'New York Jets', 'Draft': '2008_Round_1_18', 'College': 'Delaware', 'Ht': '6’6”', 'Wt': '238', 'DOB': '1985-01-16', 'Age': '37'}\n",
      "{'pos': 'Quarterback', 'team': 'New York Giants', 'Draft': '2019_Round_1_6', 'College': 'Duke', 'Ht': '6’5”', 'Wt': '221', 'DOB': '1997-05-27', 'Age': '25'}\n",
      "{'pos': 'Quarterback', 'team': 'Miami Dolphins', 'Draft': '2020_Round_1_5', 'College': 'Alabama'}\n",
      "{'pos': 'Quarterback', 'team': 'Chicago Bears', 'Draft': '2021_Round_1_11', 'College': 'Ohio State', 'Ht': '6’3”', 'Wt': '228', 'DOB': '1999-03-09', 'Age': '23'}\n",
      "{'pos': 'Quarterback', 'team': 'Jacksonville Jaguars', 'Draft': '2021_Round_1_1', 'College': 'Clemson', 'Ht': '6’6”', 'Wt': '220', 'DOB': '1999-10-06', 'Age': '22'}\n",
      "{'pos': 'Quarterback', 'team': 'Pittsburgh Steelers', 'Draft': '2017_Round_1_2', 'College': 'North Carolina', 'Ht': '6’2”', 'Wt': '222', 'DOB': '1994-08-20', 'Age': '28'}\n",
      "{'pos': 'Quarterback', 'team': 'Tampa Bay Buccaneers', 'Draft': '2000_Round_6_33', 'College': 'Michigan', 'Ht': '6’4”', 'Wt': '225', 'DOB': '1977-08-03', 'Age': '45'}\n",
      "{'pos': 'Quarterback', 'team': 'San Francisco 49ers', 'Draft': '2021_Round_1_3', 'College': 'North Dakota State', 'Ht': '6’4”', 'Wt': '226', 'DOB': '2000-05-09', 'Age': '22'}\n",
      "{'pos': 'Quarterback', 'team': 'Cleveland Browns', 'Draft': '2016_Round_3_29', 'College': 'North Carolina State', 'Ht': '6’4”', 'Wt': '231', 'DOB': '1992-12-11', 'Age': '29'}\n",
      "{'pos': 'Quarterback', 'team': 'Los Angeles Rams', 'Draft': '2009_Round_1_1', 'College': 'Georgia', 'Ht': '6’2”', 'Wt': '232', 'DOB': '1988-02-07', 'Age': '34'}\n",
      "{'pos': 'Quarterback', 'team': 'New England Patriots', 'Draft': '2021_Round_1_15', 'College': 'Alabama', 'Ht': '6’3”', 'Wt': '214', 'DOB': '1998-09-05', 'Age': '24'}\n",
      "{'pos': 'Quarterback', 'team': 'Dallas Cowboys', 'Draft': '2016_Round_4_37', 'College': 'Mississippi State', 'Ht': '6’2”', 'Wt': '226', 'DOB': '1993-07-29', 'Age': '29'}\n",
      "{'pos': 'Quarterback', 'team': 'Green Bay Packers', 'Draft': '2005_Round_1_24', 'College': 'California', 'Ht': '6’2”', 'Wt': '225', 'DOB': '1983-12-02', 'Age': '38'}\n",
      "{'pos': 'Quarterback', 'team': 'Green Bay Packers', 'Draft': '2020_Round_1_26', 'College': 'Utah State', 'Ht': '6’4”', 'Wt': '224', 'DOB': '1998-11-02', 'Age': '23'}\n",
      "{'pos': 'Quarterback', 'team': 'Dallas Cowboys', 'College': 'Central Michigan', 'Ht': '6’3”', 'Wt': '225', 'DOB': '1993-11-21', 'Age': '28'}\n",
      "{'pos': 'Quarterback', 'team': 'Arizona Cardinals', 'Draft': '2019_Round_6_25', 'College': 'Penn State'}\n"
     ]
    },
    {
     "ename": "ValueError",
     "evalue": "not enough values to unpack (expected 2, got 1)",
     "output_type": "error",
     "traceback": [
      "\u001b[1;31m---------------------------------------------------------------------------\u001b[0m",
      "\u001b[1;31mValueError\u001b[0m                                Traceback (most recent call last)",
      "Cell \u001b[1;32mIn [80], line 19\u001b[0m\n\u001b[0;32m     17\u001b[0m             item \u001b[38;5;241m=\u001b[39m item\u001b[38;5;241m.\u001b[39mreplace(\u001b[38;5;124m\"\u001b[39m\u001b[38;5;124m: \u001b[39m\u001b[38;5;124m\"\u001b[39m, \u001b[38;5;124m\"\u001b[39m\u001b[38;5;124m:\u001b[39m\u001b[38;5;124m\"\u001b[39m)\u001b[38;5;241m.\u001b[39mreplace(\u001b[38;5;124m\"\u001b[39m\u001b[38;5;124m  \u001b[39m\u001b[38;5;124m\"\u001b[39m, \u001b[38;5;124m\"\u001b[39m\u001b[38;5;124m \u001b[39m\u001b[38;5;124m\"\u001b[39m)\u001b[38;5;241m.\u001b[39msplit(\u001b[38;5;124m\"\u001b[39m\u001b[38;5;124m \u001b[39m\u001b[38;5;124m\"\u001b[39m)\n\u001b[0;32m     18\u001b[0m             \u001b[38;5;28;01mfor\u001b[39;00m subitem \u001b[38;5;129;01min\u001b[39;00m item:\n\u001b[1;32m---> 19\u001b[0m                 key, val \u001b[38;5;241m=\u001b[39m subitem\u001b[38;5;241m.\u001b[39msplit(\u001b[38;5;124m\"\u001b[39m\u001b[38;5;124m:\u001b[39m\u001b[38;5;124m\"\u001b[39m)\n\u001b[0;32m     20\u001b[0m                 header[key] \u001b[38;5;241m=\u001b[39m val\n\u001b[0;32m     21\u001b[0m \u001b[38;5;28mprint\u001b[39m(header)\n",
      "\u001b[1;31mValueError\u001b[0m: not enough values to unpack (expected 2, got 1)"
     ]
    }
   ],
   "source": [
    "for player, data in raw_data.items():\n",
    "\n",
    "    header = {}\n",
    "    raw_header = data['header']\n",
    "\n",
    "    header['pos'], header['team'] = raw_header[2].split(\", \")\n",
    "\n",
    "    for item in raw_header[3:]:\n",
    "        if \":\" in item:\n",
    "            split_item = item.split(\": \")\n",
    "            key = split_item[0]\n",
    "            if key == \"College\":\n",
    "                header[key] = split_item[1]\n",
    "            if key == \"Draft\":\n",
    "                header[key] = split_item[1].replace(\" \", \"_\").replace(\"(\", \"\").replace(\")\", \"\")\n",
    "            if key == \"Ht\":\n",
    "                item = item.replace(\": \", \":\").replace(\"  \", \" \").split(\" \")\n",
    "                for subitem in item:\n",
    "                    key, val = subitem.split(\":\")\n",
    "                    header[key] = val\n",
    "    print(header)"
   ]
  },
  {
   "cell_type": "code",
   "execution_count": null,
   "metadata": {},
   "outputs": [],
   "source": [
    "header_raw = data['header'][2:]\n",
    "\n",
    "# get position and team, if no team exists team = \"\"\n",
    "position_team = header_raw.pop(0).split(\", \")\n",
    "position_team.append(\"\")\n",
    "(pos, team) = position_team[:2]\n",
    "\n",
    "# format string for key value structure\n",
    "draft_class_replace_tuples = (\" \", \"_\"), (\":_\",\": \"), (\"(\", \"\"), (\")\", \"\")\n",
    "for t in draft_class_replace_tuples:\n",
    "    header_raw[0] = header_raw[0].replace(*t)\n",
    "header_raw.append(header_raw.pop().replace(\"  \", \" \"))\n",
    "\n",
    "# add pos and team in key value structure\n",
    "header_raw.append(f'pos: {pos.lower()}')\n",
    "header_raw.append(f'team: {team.lower()}')\n",
    "\n",
    "# seperate keys from values\n",
    "header_key_values = [item.replace(\": \", \" \").split(\" \") for item in header_raw]\n",
    "\n",
    "# populate dict with keys and values\n",
    "header_dict_collection = {}\n",
    "for row in header_key_values:\n",
    "    for i, item in enumerate(row):\n",
    "        if i % 2:\n",
    "            header_dict_collection[key] = item.lower()\n",
    "        else:\n",
    "            key = item.lower()\n",
    "\n",
    "return header_dict_collection"
   ]
  }
 ],
 "metadata": {
  "kernelspec": {
   "display_name": "Python 3.8.0 ('venv': venv)",
   "language": "python",
   "name": "python3"
  },
  "language_info": {
   "codemirror_mode": {
    "name": "ipython",
    "version": 3
   },
   "file_extension": ".py",
   "mimetype": "text/x-python",
   "name": "python",
   "nbconvert_exporter": "python",
   "pygments_lexer": "ipython3",
   "version": "3.8.0"
  },
  "orig_nbformat": 4,
  "vscode": {
   "interpreter": {
    "hash": "3bb34c9df7005154cd33c95a3047ea4adc397bd1e5244326db1b02c24d2be677"
   }
  }
 },
 "nbformat": 4,
 "nbformat_minor": 2
}
